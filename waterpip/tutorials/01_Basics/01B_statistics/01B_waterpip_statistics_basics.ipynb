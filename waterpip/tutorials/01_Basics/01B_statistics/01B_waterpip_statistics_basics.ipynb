{
 "cells": [
  {
   "cell_type": "markdown",
   "source": [
    "## Basic statistics of  the WaPOR data\n",
    "\n",
    "#### Background\n",
    "\n",
    "All the waterpip functions have been organized into classes to help automate as much of the process as possible. Most importantly is that folder structuring and naming is automated by calling on and intiating the *WaporStructure* class in the background. A user sets their project directory using the *waterpip_directory* and *project_name* inputs and the functions take care of the rest. \n",
    "\n",
    "##### WARNING: \n",
    "This analysis example requires the folder structure built while running and downloading data using the WaporRetrieval class. Please see 01_waterpip_download_basics for more info. It is not recommended to run this notebook on data not downloaded using WaporRetrieval (but it is possible if you get into the code)*\n",
    "\n",
    "##### NOTE: \n",
    "If this is your first time running this please read the instructions below  and then follow the steps to analyse the data. "
   ],
   "metadata": {}
  },
  {
   "cell_type": "markdown",
   "source": [
    "## 1 Import modules/libraries"
   ],
   "metadata": {}
  },
  {
   "cell_type": "code",
   "execution_count": 34,
   "source": [
    "import os\r\n",
    "from datetime import datetime\r\n",
    "from waterpip.scripts.analysis.wapor_analysis import WaporAnalysis\r\n",
    "print('class imported succesfully, you are at the starting line')"
   ],
   "outputs": [
    {
     "output_type": "stream",
     "name": "stdout",
     "text": [
      "class imported succesfully, you are at the starting line\n"
     ]
    }
   ],
   "metadata": {}
  },
  {
   "cell_type": "markdown",
   "source": [
    "## 2 Initiate/activate WaporAnalysis class to start analysis \n",
    "\n",
    "This class was made to make analyzing data retrieved from the WAPOR portal easy. To intiate the class you need to enter/edit the following inputs below:\n",
    "\n",
    "##### Note: \n",
    "Use the same inputs as found in the class WaporRetrieval. Except that the api_token is only required if retrieving data. In the case of using data retrieved using WaporRetrieval the clas inputsd here should be literally the same*\n",
    "\n",
    "#### Required Inputs:\n",
    "\n",
    "- **waterpip_directory**: path to the directory where the project specific directory will be created. the class *WaporRetrieval* automatically creates a new directory using the input *project_name* on activation and creates subfolders to organise the data as well. The functions that follow automatically use these folders (**required**).\n",
    "\n",
    "- **shapefile_path**: the shapefile is a needed input that specifies the location to download data for as well as the projection to output it in. Directly the input is the path to the shapefile itself. The function retrieves the data for the area(s) shown in the shapefile  (**required**). ***Note***: A shapefile is required and provides alot of the required info for the project including the extent and the output projection. Any projection (crs) is accepted, wapor data is  always downloaded in epsg: 4326 and the shapefile bounding box is transformed as needed to match. transformations are made again if needed to retrieve the data and transform it to match the projection (crs) of the input shapefile. \n",
    "\n",
    "- **wapor_level**: level of WAPOR data to download. There are 3 levels from low resolution 250m (1) and mid resolution 100m (2) to high resolution 30m (3). All of Africa and part of the middle east is available at level 1. Specific countries are available at level 2. Only some specific locations around the size of valleys or hydrosheds are available at level 3. For more info on the levels please see: https://wapor.apps.fao.org/home/WAPOR_2/1  (**required**).\n",
    "\n",
    "**Note**: A spatial check is carried out on the download area specified in your shapefile to see if data is available for it at the given level when running (only level 1 and 3 spatial checks exist currently). Error messages provide details.\n",
    "\n",
    "- **project_name**: name of the directory that will be created, all data retrieved and analysed can be found in here, auto set to *test* if not provided."
   ],
   "metadata": {}
  },
  {
   "cell_type": "code",
   "execution_count": 35,
   "source": [
    "analysis = WaporAnalysis(\r\n",
    "        waterpip_directory=r'C:/path/to/the/directory',\r\n",
    "        shapefile_path=r\"C:\\path\\to\\the\\shapefile.shp\",\r\n",
    "        wapor_level=3,\r\n",
    "        project_name='',\r\n",
    "    )"
   ],
   "outputs": [],
   "metadata": {}
  },
  {
   "cell_type": "markdown",
   "source": [
    "## 3 Analyse the data \n",
    "\n",
    "After setting up the class you want to analyse some data. There are multiple functions that can be used for analysis. In this notebook we will show you one of the basic ones. Each analysis function can be called seperately using the method above. Lets start with the most basic one below\n",
    "\n",
    "### 3.1 Calculate crop field statistics\n",
    "\n",
    "To calculate field statistics from a raster you can use the class function *calculate_field_statistics*. This function takes a raster and calculates statistics from it for each of the crop field (geometries) found in the shapefile provided. Shapefile provided must have crop field boundaries delineated. \n",
    "\n",
    "to run the class function you need to provide the following inputs:\n",
    "\n",
    "- **input_raster_path**: path to the raster to analyse and retrieve field statistics from (**required**)\n",
    "\n",
    "##### Note: \n",
    "The raster you want can likely be found in the processed folder where it was stored after retrieving it using WaporRetrieval: <waterpip_directory>/<project_name>/<L<level>/analysis/<level_datacomponent_return_period_folder>* \n",
    "\n",
    "- **input_shapefile_path**: path to the input shapefile that defines the analysis zones (fields) autoset to the class shapefile if not provided\n",
    "\n",
    "- **output_shapefile_name**: name of the output shapefile, directory is automatically set. If no name is set it is auto\n",
    "set to input name plus *_analysis*\n",
    "\n",
    "- **stats**: list of statistics too calculate, limited to those available in zonal statistics, autoset too: ['min', 'max', 'mean', 'sum']"
   ],
   "metadata": {}
  },
  {
   "cell_type": "code",
   "execution_count": 36,
   "source": [
    "field_stats = analysis.calc_field_statistics(\r\n",
    "    fields_shapefile_path=r\"C:\\path\\to\\the\\shapefile.shp\",\r\n",
    "    input_rasters=[r\"C:\\path\\to\\the\\raster.tif\"],\r\n",
    "    template_raster_path=r\"C:\\path\\to\\the\\raster.tif\",\r\n",
    "    crop=\"wheat\",\r\n",
    "    field_stats=['min', 'max', 'mean', 'sum', 'stddev'],\r\n",
    "    analysis_name='First',\r\n",
    "    id_key='id',\r\n",
    "    out_dict=False\r\n",
    ")\r\n",
    "print(field_stats)"
   ],
   "outputs": [
    {
     "output_type": "stream",
     "name": "stdout",
     "text": [
      "attempting to claculate zonal stats for a single raster\n",
      "calculating all feature statistics...\n",
      "(     AETI_WaPOR_min  AETI_WaPOR_max  AETI_WaPOR_mean  AETI_WaPOR_sum  \\\n",
      "1        575.599976      970.900024       832.701172    67448.796875   \n",
      "2        247.100006     1000.700012       848.698547   112876.906250   \n",
      "3        547.700012     1020.000000       915.415466   183083.093750   \n",
      "4        458.200012     1095.400024       739.995789   278238.406250   \n",
      "5        224.399994     1159.000000       846.208435   479800.187500   \n",
      "..              ...             ...              ...             ...   \n",
      "96       618.400024      969.500000       788.987732    38660.398438   \n",
      "97       497.299988     1045.900024       888.793518   123542.296875   \n",
      "98       470.100006     1221.400024       917.367188   125679.304688   \n",
      "99       689.299988     1034.300049       872.895081    70704.500000   \n",
      "100      689.299988      951.299988       836.816223    61924.398438   \n",
      "\n",
      "     AETI_WaPOR_stddev  \n",
      "1            92.263367  \n",
      "2           175.334274  \n",
      "3            94.231979  \n",
      "4           128.556671  \n",
      "5           152.707108  \n",
      "..                 ...  \n",
      "96          102.016129  \n",
      "97          132.933304  \n",
      "98          167.674240  \n",
      "99           85.649055  \n",
      "100          61.093185  \n",
      "\n",
      "[100 rows x 5 columns], 'C:\\\\Users\\\\Safi\\\\eLEAF_IPA\\\\Bekaa\\\\BekaaTest\\\\L3\\\\04_results\\\\L3_wheat_First_20211017_20211018.csv')\n"
     ]
    }
   ],
   "metadata": {}
  },
  {
   "cell_type": "markdown",
   "source": [
    "# output the analysis data to csv and excel"
   ],
   "metadata": {}
  },
  {
   "cell_type": "code",
   "execution_count": 38,
   "source": [
    "from waterpip.scripts.support.statistics import output_table\r\n",
    "output_table(\r\n",
    "    table=field_stats, \r\n",
    "    output_file_path=\"<output_csv/excel_path>\")"
   ],
   "outputs": [
    {
     "output_type": "error",
     "ename": "KeyError",
     "evalue": "''",
     "traceback": [
      "\u001b[1;31m---------------------------------------------------------------------------\u001b[0m",
      "\u001b[1;31mKeyError\u001b[0m                                  Traceback (most recent call last)",
      "\u001b[1;32m<ipython-input-38-f88fbffb3d6d>\u001b[0m in \u001b[0;36m<module>\u001b[1;34m\u001b[0m\n\u001b[0;32m      2\u001b[0m output_table(\n\u001b[0;32m      3\u001b[0m     \u001b[0mtable\u001b[0m\u001b[1;33m=\u001b[0m\u001b[0mfield_stats\u001b[0m\u001b[1;33m,\u001b[0m\u001b[1;33m\u001b[0m\u001b[1;33m\u001b[0m\u001b[0m\n\u001b[1;32m----> 4\u001b[1;33m     output_file_path=\"<output_csv/excel_path>\")\n\u001b[0m",
      "\u001b[1;32m~\\.conda\\envs\\waterpip\\lib\\site-packages\\waterpip\\scripts\\support\\statistics.py\u001b[0m in \u001b[0;36moutput_table\u001b[1;34m(table, output_file_path, output_formats, csv_seperator, orient)\u001b[0m\n\u001b[0;32m     94\u001b[0m     \u001b[1;31m# set up output paths\u001b[0m\u001b[1;33m\u001b[0m\u001b[1;33m\u001b[0m\u001b[1;33m\u001b[0m\u001b[0m\n\u001b[0;32m     95\u001b[0m     \u001b[0mbase_path\u001b[0m\u001b[1;33m,\u001b[0m \u001b[0minitial_ext\u001b[0m \u001b[1;33m=\u001b[0m \u001b[0mos\u001b[0m\u001b[1;33m.\u001b[0m\u001b[0mpath\u001b[0m\u001b[1;33m.\u001b[0m\u001b[0msplitext\u001b[0m\u001b[1;33m(\u001b[0m\u001b[0moutput_file_path\u001b[0m\u001b[1;33m)\u001b[0m\u001b[1;33m\u001b[0m\u001b[1;33m\u001b[0m\u001b[0m\n\u001b[1;32m---> 96\u001b[1;33m     \u001b[0moutput_paths\u001b[0m \u001b[1;33m=\u001b[0m \u001b[1;33m[\u001b[0m\u001b[1;33m(\u001b[0m\u001b[0moutput_file_path\u001b[0m\u001b[1;33m,\u001b[0m \u001b[0minitial_ext\u001b[0m\u001b[1;33m,\u001b[0m \u001b[0mpd_processes\u001b[0m\u001b[1;33m[\u001b[0m\u001b[0minitial_ext\u001b[0m\u001b[1;33m]\u001b[0m\u001b[1;33m)\u001b[0m\u001b[1;33m]\u001b[0m\u001b[1;33m\u001b[0m\u001b[1;33m\u001b[0m\u001b[0m\n\u001b[0m\u001b[0;32m     97\u001b[0m \u001b[1;33m\u001b[0m\u001b[0m\n\u001b[0;32m     98\u001b[0m     \u001b[0moutput_formats\u001b[0m \u001b[1;33m=\u001b[0m \u001b[1;33m[\u001b[0m\u001b[0moutf\u001b[0m \u001b[1;32mfor\u001b[0m \u001b[0moutf\u001b[0m \u001b[1;32min\u001b[0m \u001b[0moutput_formats\u001b[0m \u001b[1;32mif\u001b[0m \u001b[0moutf\u001b[0m \u001b[1;33m!=\u001b[0m \u001b[0minitial_ext\u001b[0m\u001b[1;33m]\u001b[0m\u001b[1;33m\u001b[0m\u001b[1;33m\u001b[0m\u001b[0m\n",
      "\u001b[1;31mKeyError\u001b[0m: ''"
     ]
    }
   ],
   "metadata": {}
  },
  {
   "cell_type": "markdown",
   "source": [
    "## 4 Check out the data \n",
    "\n",
    "if the code ran succesfully you should be able to find a shapefile in the subfolders under the folder: \n",
    "*<wapor_directory>/<project_name>/L<number>/03_analysis*\n",
    "\n",
    "## 5 Visualise the data\n",
    "\n",
    "You can check the data using a program such as Qgis or arcGIS or however you want.\n",
    "\n",
    "## 6 Rinse and Repeat  \n",
    "\n",
    "Now that you know how to retrieve data and analyse data feel free to repeat the notebooks *02_waterpip_download_basics* and *03_waterpip_analysis_basics* and play around with the parameters. If you feel like it you can even get into the code itself and see what you can code, run, retrieve and analyse! \n",
    "\n",
    "## 7 Producing Performance Assessment Indicators (PAIs) for an area\n",
    "\n",
    "If you feel like it you can also take a look at notebook *04_waterpip_analysis_PAIs.ipynb* where we walk you through the process of producing some more informative statistics: *Performance Assessment Indicators (PAIs)* for an area from download to analysis."
   ],
   "metadata": {}
  },
  {
   "cell_type": "code",
   "execution_count": null,
   "source": [],
   "outputs": [],
   "metadata": {}
  }
 ],
 "metadata": {
  "interpreter": {
   "hash": "347bda3fe5896fc7ff1908591e794fddf1244aacfa6f4e907c9af04a60b38d45"
  },
  "kernelspec": {
   "display_name": "Python 3",
   "language": "python",
   "name": "python3"
  },
  "language_info": {
   "codemirror_mode": {
    "name": "ipython",
    "version": 3
   },
   "file_extension": ".py",
   "mimetype": "text/x-python",
   "name": "python",
   "nbconvert_exporter": "python",
   "pygments_lexer": "ipython3",
   "version": "3.7.11"
  }
 },
 "nbformat": 4,
 "nbformat_minor": 2
}