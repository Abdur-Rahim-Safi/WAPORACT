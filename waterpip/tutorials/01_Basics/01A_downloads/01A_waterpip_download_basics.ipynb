{
 "cells": [
  {
   "cell_type": "markdown",
   "metadata": {},
   "source": [
    "# WaterPIP Download: Basics of retrieving data from the wapor data portal\n",
    "\n",
    "#### Background\n",
    "\n",
    "All the waterpip functions have been organized into classes to help automate as much of the process as possible. Most importantly is that folder structuring and naming is automated by calling on and intiating the *WaporStructure* class in the background. A user sets their project directory using the *waterpip_directory* and *project_name* inputs and the functions take care of the rest. \n",
    "\n",
    "##### NOTE: \n",
    "If this is your first time running this please read the instructions below  and then follow the steps to download the data. "
   ]
  },
  {
   "cell_type": "markdown",
   "metadata": {},
   "source": [
    "## 1 Import modules/libraries"
   ]
  },
  {
   "cell_type": "code",
   "execution_count": 1,
   "metadata": {},
   "outputs": [
    {
     "name": "stdout",
     "output_type": "stream",
     "text": [
      "class imported succesfully, you are at the starting line\n"
     ]
    }
   ],
   "source": [
    "import os\n",
    "from datetime import datetime\n",
    "from waterpip.scripts.retrieval.wapor_retrieval import WaporRetrieval\n",
    "print('class imported succesfully, you are at the starting line')"
   ]
  },
  {
   "cell_type": "markdown",
   "metadata": {},
   "source": [
    "## 2 Get a download token from the WAPOR website\n",
    "\n",
    "Get your API Token from https://wapor.apps.fao.org/profile, once you have it you pass it as an argument below when intiating the class\n",
    "as api_token='<your_token_goes_here>' . Remember to use '' so that it is recognized as a string object\n"
   ]
  },
  {
   "cell_type": "markdown",
   "metadata": {},
   "source": [
    "## 3 Initiate the data retrieval class"
   ]
  },
  {
   "cell_type": "markdown",
   "metadata": {},
   "source": [
    "#### 3.1 Initiate/activate the class *WaporRetrieval*. \n",
    "\n",
    "Background info: *WaporRetrieval* uses (inherits) the class *WaporAPI* originally written by Bich Tran at IHE Delft for the various open source WAPOR packages released by IHE DELFT. It is a great package for accessing the WAPOR data via API and if you want more flexibility in your implementation or if you want to dive into the code directly; I recommend you check out the original code available via their packages on GIT. You can also check out the edited version of their *WaporAPI* class that can be found in this package.\n",
    "\n",
    "to intiate the class you need to enter/edit the following inputs below:\n",
    "\n",
    "#### Required Inputs:\n",
    "\n",
    "- **waterpip_directory**: path to the directory where the project specific directory will be created. the class *WaporRetrieval* automatically creates a new directory using the input *project_name* on activation and creates subfolders to organise the data as well. The functions that follow automatically use these folders (**required**).\n",
    "\n",
    "- **shapefile_path**: the shapefile is a needed input that specifies the location to download data for as well as the projection to output it in. Directly the input is the path to the shapefile itself. The function retrieves the data for the area(s) shown in the shapefile  (**required**).\n",
    "\n",
    "**Note**: A shapefile is required and provides alot of the required info for the project including the extent and the output projection. Any projection (crs) is accepted, wapor data is  always downloaded in epsg: 4326 and the shapefile bounding box is transformed as needed to match. transformations are made again if needed to retrieve the data and transform it to match the projection (crs) of the input shapefile. \n",
    "\n",
    "- **wapor_level**: level of WAPOR data to download. There are 3 levels from low resolution 250m (1) and mid resolution 100m (2) to high resolution 30m (3). All of Africa and part of the middle east is available at level 1. Specific countries are available at level 2. Only some specific locations around the size of valleys or hydrosheds are available at level 3. For more info on the levels please see: https://wapor.apps.fao.org/home/WAPOR_2/1  (**required**).\n",
    "\n",
    "**Note**: A spatial check is carried out on the download area specified in your shapefile to see if data is available for it at the given level when running (only level 1 and 3 spatial checks exist currently). Error messages provide details.\n",
    "\n",
    "- **api_token**: the api token retrieved form the WAPOR site goes here. see the instructions above on how to retrieve a token from the WAPOR website (**required**).\n",
    "\n",
    "- **project_name**: name of the directory that will be created, all data retrieved and analysed can be found in here, auto set to *test* if not provided.\n",
    "\n",
    "#### Optional Inputs:\n",
    "\n",
    "The following inputs are optional. They can also be provided when running the class functions for more flexibility. The advantage of passing them during clas setup/initialisation is that it is easy to repeatedly use the class functions with the same inputs. That way you are assured it will always run for the same inputs. The advantage of passing the class functions is that it is flexible. by changing only a few inputs you can retrieve different sets of data each time while maintaining the same required class inputs (folder structure, wapor level and area of interest (shapefile) etc). \n",
    "\n",
    "- **period_start**: date you want to start your data download from, enter as a datetime object. This can also be provided later when running the class functions. Auto sets to the before running if not provided.\n",
    "\n",
    "- **period_end**: date you want to end your data download at, enter as a datetime object. This can also be provided later when \n",
    "running the class functions. Auto sets to the day of running if not provided.\n",
    "\n",
    "**datetime objects**: A specific way of formatting dates for python. It is made up of the function datetime followed by the date in brackets split into the sections: Year (4 digits), month (2 or 1 digit), day (2 or 1 digits). (google python datetime object for more details)\n",
    "\n",
    "*Example*: November 4th 2020 or 4-11-2020: datetime(2020,11,4)  \n",
    "\n",
    "*Note*: do not use leading zeros for single digit dates (1 not 01). \n",
    "\n",
    "- **return_period**: return period to download data for, given as a single letter code. available periods include: I: Daily, D: Dekadal, S: Seasonal, A: Annual (yearly). This can also be provided later when running the class functions. Auto sets to the Dekadal (D) if not provided.\n",
    "\n",
    "- **datacomponents**: datacomponents (parameters of interest such as transpiration and net primary productivity) to download data for. These are input as single letter code strings seperated by a ',' in a list such as: ['T', 'NPP']. if you set the datacomponents input to ['ALL'] it will download all datacomponents available for that return period and level at that location.   This can also be provided later when running the class functions. Auto sets to the ['ALL'] if not provided."
   ]
  },
  {
   "cell_type": "code",
   "execution_count": 2,
   "metadata": {},
   "outputs": [
    {
     "name": "stdout",
     "output_type": "stream",
     "text": [
      "bbox shapefile based on the input shapefile can be found at: C:\\Users\\Safi\\eLEAF_IPA\\Bekaa\\BekaaTest\\L3\\00_reference\\ForAnalysis_bbox.shp\n",
      "running check for all wapor wapor_level catalogues and downloading as needed:\n",
      "Loading WaPOR catalog for wapor_level: 1\n",
      "catalogue location: C:\\Users\\Safi\\eLEAF_IPA\\Bekaa\\metadata\\wapor_catalogue_L1.csv\n",
      "Loading WaPOR catalog for wapor_level: 2\n",
      "catalogue location: C:\\Users\\Safi\\eLEAF_IPA\\Bekaa\\metadata\\wapor_catalogue_L2.csv\n",
      "Loading WaPOR catalog for wapor_level: 3\n",
      "catalogue location: C:\\Users\\Safi\\eLEAF_IPA\\Bekaa\\metadata\\wapor_catalogue_L3.csv\n",
      "wapor_level 3 location shapefile exists skipping retrieval\n",
      "wapor_level 3 location shapefile: C:\\Users\\Safi\\eLEAF_IPA\\Bekaa\\metadata\\wapor_L3_locations.shp\n",
      "loading wapor catalogue for this run:\n",
      "Loading WaPOR catalog for wapor_level: 3\n",
      "catalogue location: C:\\Users\\Safi\\eLEAF_IPA\\Bekaa\\metadata\\wapor_catalogue_L3.csv\n"
     ]
    }
   ],
   "source": [
    "# if not using an input delete that line\n",
    "retrieval = WaporRetrieval(            \n",
    "    waterpip_directory=r'C:\\Users\\Safi\\eLEAF_IPA\\Bekaa',\n",
    "    shapefile_path=r\"C:\\DATA\\eLEAF\\WaPOR\\ProjectGezira\\Pojects\\AETIWaPORpath\\ForAnalysis.shp\",\n",
    "    wapor_level=3,\n",
    "    project_name='BekaaTest',\n",
    "    api_token='7576e1f763f7d8d494a74f3097c531fea35e784d53ab0992f93483e2d8c7caae9e64c344a06392d7')"
   ]
  },
  {
   "cell_type": "markdown",
   "metadata": {},
   "source": [
    "#### 3.2 Check out the level catalogues and availability shapefile\n",
    "\n",
    "When  you run the class for the first time the class also automatically donwloads a catalog of the data available at level 1 2 and 3 as .csv and excel as well as the areas where data is available at level 3 as a shapefile. These are outputted in the metadata folder that is automatically made under the wapor_directory specified. This makes the download take slightly longer the first time. You can use the files to check for details on avaialble datacomponents, return periods and areas.\n",
    "\n",
    "These files are automatically downloaded again if they are deleted or if the wapor directory changes or if the files are found to be older than 2 months.\n",
    "\n",
    "if you want you can now edit and run the code using the codes and info found in the catalogues to retrieve different data."
   ]
  },
  {
   "cell_type": "markdown",
   "metadata": {},
   "source": [
    "## 4 Retrieve data form the WAPOR portal\n",
    "\n",
    "The fourth thing you need to do is retrieve data from the WAPOR portal. This is split into two parts retrieval of the download info with the class function *retrieve_wapor_download_info* and retrieval of the rasters with the class function *retrieve_wapor_rasters*. The reason why it is split this way is so that you can retrieve different sets of download info and group them together. That way you can make multiple calls to *retrieve_wapor_download_info* with different parameters and then retrieve and format the retrieved rasters all at the same time in the same way using *retrieve_wapor_rasters* "
   ]
  },
  {
   "cell_type": "markdown",
   "metadata": {},
   "source": [
    "### 4.1 Retrieve download info from the WAPOR portal\n",
    "\n",
    "the function *retrieve_wapor_download_info* outputs a list containing dictionaries. It retrieves all download urls avaialble  using the given input parameters and stores them in dictionaries. With one dictionary per donwload url (raster). Each dictionary also contains useful info on where the raster should be downloaded too and how it should be formatted. This list of dictionaries is required as an input in the function *retrieve_wapor_rasters*. \n",
    "\n",
    "to run the class function you need to provide the following inputs:\n",
    "\n",
    "- **period_start**: date you want to start your data download from, enter as a datetime object. This could also have been provided when intitiating the class.\n",
    "\n",
    "- **period_end**: date you want to end your data download at, enter as a datetime object. This could also have been provided when intitiating the class.\n",
    "\n",
    "**datetime objects**: A specific way of formatting dates for python. It is made up of the function datetime followed by the date in brackets split into the sections: Year (4 digits), month (2 or 1 digit), day (2 or 1 digits). (google python datetime object for more details)\n",
    "\n",
    "*Example*: November 4th 2020 or 4-11-2020: datetime(2020,11,4)  \n",
    "\n",
    "*Note*: do not use leading zeros for single digit dates (1 not 01). \n",
    "\n",
    "- **return_period**: return period to download data for, given as a single letter code. available periods include: I: Daily, D: Dekadal, S: Seasonal, A: Annual (yearly). This could also have been provided when intitiating the class.\n",
    "\n",
    "- **datacomponents**: datacomponents (parameters of interest such as transpiration and net primary productivity) to download data for. These are input as single letter code strings seperated by a ',' in a list such as: ['T', 'NPP']. if you set the datacomponents input to ['ALL'] it will download all datacomponents available for that return period and level at that location.  This could also have been provided when intitiating the class.\n",
    "\n",
    "**NOTE**: you can call thsi function multiple times if you like in a loop for different parameters and extend the output list using the python function extend() to make one list for input into the follow up function *retrieve_wapor_rasters*\n"
   ]
  },
  {
   "cell_type": "code",
   "execution_count": 3,
   "metadata": {},
   "outputs": [
    {
     "name": "stdout",
     "output_type": "stream",
     "text": [
      "retrieving download info for component: AETI\n",
      "retrieving download info for wapor_level 3 region: GEZ\n",
      "attempting to retrieve donwload info for 7 rasters from wapor\n",
      "Download Info Progress: |██████████████████████████████████████████████████| 100.0% Complete: 7 out of 7\n",
      "[{'component': 'AETI', 'cube_code': 'L3_GEZ_AETI_D', 'period_str': '20200301_20200311', 'period_start': datetime.datetime(2020, 3, 1, 0, 0), 'period_end': datetime.datetime(2020, 3, 11, 0, 0), 'return_period': 'D', 'raster_id': 'L3_GEZ_AETI_2007', 'multiplier': 0.1, 'download_file': 'C:\\\\Users\\\\Safi\\\\eLEAF_IPA\\\\Bekaa\\\\BekaaTest\\\\L3\\\\01_download\\\\L3_AETI_D\\\\L3_GEZ_AETI_2007.tif', 'download': False, 'preprocessed_file': 'C:\\\\Users\\\\Safi\\\\eLEAF_IPA\\\\Bekaa\\\\BekaaTest\\\\L3\\\\02_processed\\\\L3_AETI_D\\\\L3_AETI_2007_temp.tif', 'preprocess': False, 'processed_file': 'C:\\\\Users\\\\Safi\\\\eLEAF_IPA\\\\Bekaa\\\\BekaaTest\\\\L3\\\\02_processed\\\\L3_AETI_D\\\\L3_AETI_2007.tif', 'process': False, 'url': None}, {'component': 'AETI', 'cube_code': 'L3_GEZ_AETI_D', 'period_str': '20200311_20200321', 'period_start': datetime.datetime(2020, 3, 11, 0, 0), 'period_end': datetime.datetime(2020, 3, 21, 0, 0), 'return_period': 'D', 'raster_id': 'L3_GEZ_AETI_2008', 'multiplier': 0.1, 'download_file': 'C:\\\\Users\\\\Safi\\\\eLEAF_IPA\\\\Bekaa\\\\BekaaTest\\\\L3\\\\01_download\\\\L3_AETI_D\\\\L3_GEZ_AETI_2008.tif', 'download': False, 'preprocessed_file': 'C:\\\\Users\\\\Safi\\\\eLEAF_IPA\\\\Bekaa\\\\BekaaTest\\\\L3\\\\02_processed\\\\L3_AETI_D\\\\L3_AETI_2008_temp.tif', 'preprocess': False, 'processed_file': 'C:\\\\Users\\\\Safi\\\\eLEAF_IPA\\\\Bekaa\\\\BekaaTest\\\\L3\\\\02_processed\\\\L3_AETI_D\\\\L3_AETI_2008.tif', 'process': False, 'url': None}, {'component': 'AETI', 'cube_code': 'L3_GEZ_AETI_D', 'period_str': '20200321_20200401', 'period_start': datetime.datetime(2020, 3, 21, 0, 0), 'period_end': datetime.datetime(2020, 4, 1, 0, 0), 'return_period': 'D', 'raster_id': 'L3_GEZ_AETI_2009', 'multiplier': 0.1, 'download_file': 'C:\\\\Users\\\\Safi\\\\eLEAF_IPA\\\\Bekaa\\\\BekaaTest\\\\L3\\\\01_download\\\\L3_AETI_D\\\\L3_GEZ_AETI_2009.tif', 'download': False, 'preprocessed_file': 'C:\\\\Users\\\\Safi\\\\eLEAF_IPA\\\\Bekaa\\\\BekaaTest\\\\L3\\\\02_processed\\\\L3_AETI_D\\\\L3_AETI_2009_temp.tif', 'preprocess': False, 'processed_file': 'C:\\\\Users\\\\Safi\\\\eLEAF_IPA\\\\Bekaa\\\\BekaaTest\\\\L3\\\\02_processed\\\\L3_AETI_D\\\\L3_AETI_2009.tif', 'process': False, 'url': None}, {'component': 'AETI', 'cube_code': 'L3_GEZ_AETI_D', 'period_str': '20200401_20200411', 'period_start': datetime.datetime(2020, 4, 1, 0, 0), 'period_end': datetime.datetime(2020, 4, 11, 0, 0), 'return_period': 'D', 'raster_id': 'L3_GEZ_AETI_2010', 'multiplier': 0.1, 'download_file': 'C:\\\\Users\\\\Safi\\\\eLEAF_IPA\\\\Bekaa\\\\BekaaTest\\\\L3\\\\01_download\\\\L3_AETI_D\\\\L3_GEZ_AETI_2010.tif', 'download': False, 'preprocessed_file': 'C:\\\\Users\\\\Safi\\\\eLEAF_IPA\\\\Bekaa\\\\BekaaTest\\\\L3\\\\02_processed\\\\L3_AETI_D\\\\L3_AETI_2010_temp.tif', 'preprocess': False, 'processed_file': 'C:\\\\Users\\\\Safi\\\\eLEAF_IPA\\\\Bekaa\\\\BekaaTest\\\\L3\\\\02_processed\\\\L3_AETI_D\\\\L3_AETI_2010.tif', 'process': False, 'url': None}, {'component': 'AETI', 'cube_code': 'L3_GEZ_AETI_D', 'period_str': '20200411_20200421', 'period_start': datetime.datetime(2020, 4, 11, 0, 0), 'period_end': datetime.datetime(2020, 4, 21, 0, 0), 'return_period': 'D', 'raster_id': 'L3_GEZ_AETI_2011', 'multiplier': 0.1, 'download_file': 'C:\\\\Users\\\\Safi\\\\eLEAF_IPA\\\\Bekaa\\\\BekaaTest\\\\L3\\\\01_download\\\\L3_AETI_D\\\\L3_GEZ_AETI_2011.tif', 'download': False, 'preprocessed_file': 'C:\\\\Users\\\\Safi\\\\eLEAF_IPA\\\\Bekaa\\\\BekaaTest\\\\L3\\\\02_processed\\\\L3_AETI_D\\\\L3_AETI_2011_temp.tif', 'preprocess': False, 'processed_file': 'C:\\\\Users\\\\Safi\\\\eLEAF_IPA\\\\Bekaa\\\\BekaaTest\\\\L3\\\\02_processed\\\\L3_AETI_D\\\\L3_AETI_2011.tif', 'process': False, 'url': None}, {'component': 'AETI', 'cube_code': 'L3_GEZ_AETI_D', 'period_str': '20200421_20200501', 'period_start': datetime.datetime(2020, 4, 21, 0, 0), 'period_end': datetime.datetime(2020, 5, 1, 0, 0), 'return_period': 'D', 'raster_id': 'L3_GEZ_AETI_2012', 'multiplier': 0.1, 'download_file': 'C:\\\\Users\\\\Safi\\\\eLEAF_IPA\\\\Bekaa\\\\BekaaTest\\\\L3\\\\01_download\\\\L3_AETI_D\\\\L3_GEZ_AETI_2012.tif', 'download': False, 'preprocessed_file': 'C:\\\\Users\\\\Safi\\\\eLEAF_IPA\\\\Bekaa\\\\BekaaTest\\\\L3\\\\02_processed\\\\L3_AETI_D\\\\L3_AETI_2012_temp.tif', 'preprocess': False, 'processed_file': 'C:\\\\Users\\\\Safi\\\\eLEAF_IPA\\\\Bekaa\\\\BekaaTest\\\\L3\\\\02_processed\\\\L3_AETI_D\\\\L3_AETI_2012.tif', 'process': False, 'url': None}, {'component': 'AETI', 'cube_code': 'L3_GEZ_AETI_D', 'period_str': '20200501_20200511', 'period_start': datetime.datetime(2020, 5, 1, 0, 0), 'period_end': datetime.datetime(2020, 5, 11, 0, 0), 'return_period': 'D', 'raster_id': 'L3_GEZ_AETI_2013', 'multiplier': 0.1, 'download_file': 'C:\\\\Users\\\\Safi\\\\eLEAF_IPA\\\\Bekaa\\\\BekaaTest\\\\L3\\\\01_download\\\\L3_AETI_D\\\\L3_GEZ_AETI_2013.tif', 'download': False, 'preprocessed_file': 'C:\\\\Users\\\\Safi\\\\eLEAF_IPA\\\\Bekaa\\\\BekaaTest\\\\L3\\\\02_processed\\\\L3_AETI_D\\\\L3_AETI_2013_temp.tif', 'preprocess': False, 'processed_file': 'C:\\\\Users\\\\Safi\\\\eLEAF_IPA\\\\Bekaa\\\\BekaaTest\\\\L3\\\\02_processed\\\\L3_AETI_D\\\\L3_AETI_2013.tif', 'process': False, 'url': None}]\n"
     ]
    }
   ],
   "source": [
    "retrieval_info = retrieval.retrieve_wapor_download_info(\n",
    "    period_start=datetime(2020,3,5),\n",
    "    period_end=datetime(2020,5,6),\n",
    "    return_period='D',\n",
    "    datacomponents=['AETI'])\n",
    "\n",
    "print(retrieval_info)"
   ]
  },
  {
   "cell_type": "markdown",
   "metadata": {},
   "source": [
    "\n",
    "### 4.2 Retrieve the rasters from the WAPOR portal and format and store them\n",
    "\n",
    "the function *retrieve_wapor_rasters* outputs rasters to the drive and returns a list of the stored raster paths.\n",
    "It uses the output from the function *retrieve_wapor_download_info* as its main input. It retrieves all the rasters specified by the donwload urls in that list form the WAPOR portal and stores them. The function then matches all rasters to the dimensions of the template raster if provided and otherwise to the first raster in the list. All rasters are reprojected to the projection of the input shapefile if needed. temporal vrts (raster stacks) are also created by combining all rasters of the same datacomponent.\n",
    "\n",
    "to run the class function you need to provide the following inputs:\n",
    "\n",
    "- **wapor_list**: list of dictionaries produced by *retrieve_wapor_download_info* (**required**)\n",
    "\n",
    "- **create_vrt**: True or False. If True creates vrts if False it does not. Autoset to True.\n",
    "\n",
    "- **template_raster_path**: path to the raster to use as template when formatting all retrieved rasters.\n",
    "\n",
    "- **mask_to_template**: True or False. If True masks all retrieved rasters to the template raster. autoset to False.\n",
    "\n",
    "- **output_nodata**: output nodata value to use for all retrieved rasters. Autoset to -9999"
   ]
  },
  {
   "cell_type": "code",
   "execution_count": 4,
   "metadata": {},
   "outputs": [
    {
     "name": "stdout",
     "output_type": "stream",
     "text": [
      "attempting to retrieve 7 rasters from wapor\n",
      "Download Raster Progress: |--------------------------------------------------| 0.0% Complete: 0 out of 7\n",
      " preprocessed file already exists skipping: C:\\Users\\Safi\\eLEAF_IPA\\Bekaa\\BekaaTest\\L3\\02_processed\\L3_AETI_D\\L3_AETI_2007_temp.tif\n",
      "Download Raster Progress: |███████-------------------------------------------| 14.3% Complete: 1 out of 7\n",
      " preprocessed file already exists skipping: C:\\Users\\Safi\\eLEAF_IPA\\Bekaa\\BekaaTest\\L3\\02_processed\\L3_AETI_D\\L3_AETI_2008_temp.tif\n",
      "Download Raster Progress: |██████████████------------------------------------| 28.6% Complete: 2 out of 7\n",
      " preprocessed file already exists skipping: C:\\Users\\Safi\\eLEAF_IPA\\Bekaa\\BekaaTest\\L3\\02_processed\\L3_AETI_D\\L3_AETI_2009_temp.tif\n",
      "Download Raster Progress: |█████████████████████-----------------------------| 42.9% Complete: 3 out of 7\n",
      " preprocessed file already exists skipping: C:\\Users\\Safi\\eLEAF_IPA\\Bekaa\\BekaaTest\\L3\\02_processed\\L3_AETI_D\\L3_AETI_2010_temp.tif\n",
      "Download Raster Progress: |████████████████████████████----------------------| 57.1% Complete: 4 out of 7\n",
      " preprocessed file already exists skipping: C:\\Users\\Safi\\eLEAF_IPA\\Bekaa\\BekaaTest\\L3\\02_processed\\L3_AETI_D\\L3_AETI_2011_temp.tif\n",
      "Download Raster Progress: |███████████████████████████████████---------------| 71.4% Complete: 5 out of 7\n",
      " preprocessed file already exists skipping: C:\\Users\\Safi\\eLEAF_IPA\\Bekaa\\BekaaTest\\L3\\02_processed\\L3_AETI_D\\L3_AETI_2012_temp.tif\n",
      "Download Raster Progress: |██████████████████████████████████████████--------| 85.7% Complete: 6 out of 7\n",
      " preprocessed file already exists skipping: C:\\Users\\Safi\\eLEAF_IPA\\Bekaa\\BekaaTest\\L3\\02_processed\\L3_AETI_D\\L3_AETI_2013_temp.tif\n",
      "Download Raster Progress: |██████████████████████████████████████████████████| 100.0% Complete: 7 out of 7\n",
      "Processing\\Warping Progress: |██████████████████████████████████████████████████| 100.0% Complete: 7 out of 7\n",
      "{'AETI': {'raster_list': ['C:\\\\Users\\\\Safi\\\\eLEAF_IPA\\\\Bekaa\\\\BekaaTest\\\\L3\\\\02_processed\\\\L3_AETI_D\\\\L3_AETI_2007.tif', 'C:\\\\Users\\\\Safi\\\\eLEAF_IPA\\\\Bekaa\\\\BekaaTest\\\\L3\\\\02_processed\\\\L3_AETI_D\\\\L3_AETI_2008.tif', 'C:\\\\Users\\\\Safi\\\\eLEAF_IPA\\\\Bekaa\\\\BekaaTest\\\\L3\\\\02_processed\\\\L3_AETI_D\\\\L3_AETI_2009.tif', 'C:\\\\Users\\\\Safi\\\\eLEAF_IPA\\\\Bekaa\\\\BekaaTest\\\\L3\\\\02_processed\\\\L3_AETI_D\\\\L3_AETI_2010.tif', 'C:\\\\Users\\\\Safi\\\\eLEAF_IPA\\\\Bekaa\\\\BekaaTest\\\\L3\\\\02_processed\\\\L3_AETI_D\\\\L3_AETI_2011.tif', 'C:\\\\Users\\\\Safi\\\\eLEAF_IPA\\\\Bekaa\\\\BekaaTest\\\\L3\\\\02_processed\\\\L3_AETI_D\\\\L3_AETI_2012.tif', 'C:\\\\Users\\\\Safi\\\\eLEAF_IPA\\\\Bekaa\\\\BekaaTest\\\\L3\\\\02_processed\\\\L3_AETI_D\\\\L3_AETI_2013.tif'], 'vrt_path': 'C:\\\\Users\\\\Safi\\\\eLEAF_IPA\\\\Bekaa\\\\BekaaTest\\\\L3\\\\02_processed\\\\L3_AETI_D\\\\3_AETI_20200301_20200511.vrt'}}\n"
     ]
    }
   ],
   "source": [
    "# retrieve the rasters\n",
    "raster_paths = retrieval.retrieve_wapor_rasters(\n",
    "        wapor_list=retrieval_info)\n",
    "\n",
    "print(raster_paths)"
   ]
  },
  {
   "cell_type": "markdown",
   "metadata": {},
   "source": [
    "## 5 Check out the data \n",
    "\n",
    "if the code ran succesfully you should be able to find it in the subfolders under the folder: \n",
    "*<wapor_directory>/<project_name>/L<number>/02_processed*\n",
    "\n",
    "there is also the folder:\n",
    "*<wapor_directory>/<project_name>/L<number>/01_download*\n",
    "\n",
    "unedited data is placed here while downloading. If the download process is succesful the data here is automatically deleted. So in the case of an error during the download, part of the data may be found here.\n",
    "\n",
    "## 6 Visualise the data\n",
    "\n",
    "You can check the data using a program such as Qgis or arcGIS or however you want.\n",
    "\n",
    "## 7 Analyse the data\n",
    "\n",
    "to analyse the data retrieved using this notebook check out the notebook *03_waterpip_analysis_basics.ipynb* on the basics of analyzing the data (requires the folder structure built in this class to run). \n"
   ]
  },
  {
   "cell_type": "code",
   "execution_count": null,
   "metadata": {},
   "outputs": [],
   "source": []
  }
 ],
 "metadata": {
  "interpreter": {
   "hash": "347bda3fe5896fc7ff1908591e794fddf1244aacfa6f4e907c9af04a60b38d45"
  },
  "kernelspec": {
   "display_name": "Python 3",
   "language": "python",
   "name": "python3"
  },
  "language_info": {
   "codemirror_mode": {
    "name": "ipython",
    "version": 3
   },
   "file_extension": ".py",
   "mimetype": "text/x-python",
   "name": "python",
   "nbconvert_exporter": "python",
   "pygments_lexer": "ipython3",
   "version": "3.7.11"
  }
 },
 "nbformat": 4,
 "nbformat_minor": 2
}
