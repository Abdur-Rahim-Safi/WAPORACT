{
 "cells": [
  {
   "cell_type": "markdown",
   "metadata": {},
   "source": [
    "## Calculating Performance Assessment Indicators (PAIs) from wapor\n",
    "\n",
    "#### Background\n",
    "\n",
    "All the waterpip functions have been organized into classes to help automate as much of the process as possible. Most importantly is that folder structuring and naming is automated by calling on and intiating the *WaporStructure* class in the background. A user sets their project directory using the *waterpip_directory* and *project_name* inputs and the functions take care of the rest. \n",
    "\n",
    "#### Performance Assessment Indicators (PAIs)\n",
    "\n",
    "Increasing competition for and limited availability of water and land resources puts a serious constraint on agricultural production systems. Sustainable land and water management practices will be critical to expand production efficiently and address food insecurity while limiting impact on the ecosystem. This requires a good understanding of how agricultural systems are performing and their potential for improvement. Variables affecting the performance of agricultural systems are both biophysical (climate, soil, topography) and socio-ecological (market, infrastructure, farm management, available inputs). The proposed approach is built on performance assessment indicators that look at satellite observations of the actual crop production and water consumption from the WaPOR database. The indicators focus on the actual performance of the agriculture system and the underlying biophysical factors, but as a satellite-based system it cannot provide information on underlying socio-ecological variables.\n",
    "The approach is based on a number of Performance Assessment Indicators (PAIs) that are derived from FAO WaPOR data on crop, water consumption and growth. The indicators estimate Water Productivity (WP) and Land Productivity (yield) pefromances at various levels for specific crop types for a selected area and time period. \n",
    "\n",
    "\n",
    "##### NOTE: \n",
    "If this is your first time running this please read the instructions below  and then follow the steps to analyse the data. The following description is the nearly the same as in *03_waterpip_analysis_basics* except it does not require previously existing data to run. "
   ]
  },
  {
   "cell_type": "markdown",
   "metadata": {},
   "source": [
    "## 1 Import modules/libraries"
   ]
  },
  {
   "cell_type": "code",
   "execution_count": 1,
   "metadata": {},
   "outputs": [
    {
     "name": "stdout",
     "output_type": "stream",
     "text": [
      "class imported succesfully, you are at the starting line\n"
     ]
    }
   ],
   "source": [
    "import os\n",
    "from datetime import datetime\n",
    "from waterpip.scripts.analysis.wapor_analysis import WaporAnalysis\n",
    "from waterpip.scripts.retrieval.wapor_retrieval import WaporRetrieval\n",
    "print('class imported succesfully, you are at the starting line')"
   ]
  },
  {
   "cell_type": "markdown",
   "metadata": {},
   "source": [
    "## 2 initiate the retrieval class to make the crop mask\n",
    "\n",
    "See notebook 02_waterpip_download_basics for details"
   ]
  },
  {
   "cell_type": "code",
   "execution_count": 3,
   "metadata": {},
   "outputs": [
    {
     "name": "stdout",
     "output_type": "stream",
     "text": [
      "bbox shapefile based on the input shapefile made and outputted too: C:\\Users\\roeland\\workspace\\projects\\waterpip\\waterpip_dir\\lebanon_wheat\\L3\\00_reference\\Bekaa_boundary_bbox_bbox.shp\n",
      "running check for all wapor wapor_level catalogues and downloading as needed:\n",
      "Loading WaPOR catalog for wapor_level: 1\n",
      "catalogue location: C:\\Users\\roeland\\workspace\\projects\\waterpip\\waterpip_dir\\metadata\\wapor_catalogue_L1.csv\n",
      "Loading WaPOR catalog for wapor_level: 2\n",
      "catalogue location: C:\\Users\\roeland\\workspace\\projects\\waterpip\\waterpip_dir\\metadata\\wapor_catalogue_L2.csv\n",
      "Loading WaPOR catalog for wapor_level: 3\n",
      "catalogue location: C:\\Users\\roeland\\workspace\\projects\\waterpip\\waterpip_dir\\metadata\\wapor_catalogue_L3.csv\n",
      "wapor_level 3 location shapefile exists skipping retrieval\n",
      "wapor_level 3 location shapefile: C:\\Users\\roeland\\workspace\\projects\\waterpip\\waterpip_dir\\metadata\\wapor_L3_locations.shp\n",
      "loading wapor catalogue for this run:\n",
      "Loading WaPOR catalog for wapor_level: 3\n",
      "catalogue location: C:\\Users\\roeland\\workspace\\projects\\waterpip\\waterpip_dir\\metadata\\wapor_catalogue_L3.csv\n"
     ]
    }
   ],
   "source": [
    "# initiate the retrieval class to make the crop mask (see notebook 02_waterpip_download_basics for details)\n",
    "retrieval = WaporRetrieval(            \n",
    "    waterpip_directory=r'C:\\Users\\roeland\\workspace\\projects\\waterpip\\waterpip_dir',\n",
    "    shapefile_path=r\"C:\\Users\\roeland\\workspace\\projects\\waterpip\\testing\\static\\Bekaa_boundary_bbox.shp\",\n",
    "    wapor_level=3,\n",
    "    project_name='lebanon_wheat',\n",
    "    api_token='c009b20150c8b6986dd321ebe1df6dbd0c5cc7684475a6ad88da64e7b45ff89ecc4e24128d2cf5bb'\n",
    ")\n",
    "\n",
    "# run your chosen method below"
   ]
  },
  {
   "cell_type": "markdown",
   "metadata": {},
   "source": [
    "## 3 Create a crop mask file for use during analysis\n",
    "\n",
    "Most of the functions in *WaporAnalysis* require a crop mask to carry out an analysis properly. *WaporRetrieval* provides two methods by which to produce a crop mask for use during analysis. \n",
    "\n",
    "**WaporRetrieval.create_crop_mask_from_shapefile**: The first and most reliable method is to base it on on your own shapefile using this function. If you are certain that your shapes/geometries cover the crop/fields of interest. This way is best. It masks to the geometries in the given shapefile to make the mask (if a mask column of 0/1 per geometry is specified it masks to specific geoemtries in the shapefile)\n",
    "\n",
    "The original shapefile is then copied to teh reference folder of the project for further use during the rest of the analysis.\n",
    "\n",
    "**WaporRetrieval.retrieve_crop_mask_from_WAPOR**: The second function uses the input shapefile to retrieve the land classification rasters from WAPOR for a given period and returns one raster of the most common land classification (per cell) over that period. Given a crop/coverage it then masks to that specific crop to create a mask file. This is considered the raw mask file. (multiple crop version to come)\n",
    "\n",
    "The raw mask is then vectorized to produce a shapefile of the fields for analysis. This file is considered the raw version again. This shapefile is then cleaned up, the geometries filtered and fixed to produce a new shapefile containing geometries that may better fit the fields. Lastly a crop mask is made based on the cleaned up shapefile again. It is up to the user to select which combination to use.  \n",
    "\n",
    "## NOTE:\n",
    "\n",
    "Whichever method you use all these files can be found in the project specific reference folder *project_folder/L{}/00_reference/* of that project for further use during the rest of the analysis. UIt is recommended you use these as it prevents alteration of your original files. Further a unique id is generated per geometry within each shapefile so that specific fields/geometries can be identified later on. This **wpid** is used automatically during further analysis unless otherwise specified."
   ]
  },
  {
   "cell_type": "markdown",
   "metadata": {},
   "source": [
    "### 3.1 Using the shapefile to produce crop mask\n",
    "\n",
    "#### Required Inputs:\n",
    "\n",
    "**crop**: crop name for the output raster\n",
    "\n",
    "#### Optional Inputs:\n",
    "\n",
    "**template_raster_path**: raster providing the metadata for the output raster\n",
    "if not provided retrieves a raster from WAPOR to use as the template.\n",
    "\n",
    "**column**: if provided burns the value found in the specified column into the raster\n",
    "so for a mask the values need to be 0,1.\n",
    "\n",
    "**period_start**: standard value used to grab a template raster if  one is not provided, \n",
    "can be ignored if the function works\n",
    "\n",
    "**period_end**: standard value used to grab a template raster if  one is not provided, \n",
    "can be ignored if the function works\n",
    "\n",
    "**return_period**: standard value used to grab a template raster if  one is not provided, \n",
    "can be ignored if the function works\n",
    "\n",
    "*NOTE: if a template_raster_path is not provided the function will atempt to retrieve one from wapor, however if nothing is found you may need to change the optional inputs*\n",
    "\n",
    "*NOTE: the advanges of a template_raster_path is that you can use it to set the extent, resolution etc of your analysis from this point forward*"
   ]
  },
  {
   "cell_type": "code",
   "execution_count": 5,
   "metadata": {},
   "outputs": [
    {
     "name": "stdout",
     "output_type": "stream",
     "text": [
      "crop was autocorrected to :your_crop_name_goes_here\n",
      "the following given datacomponents could not be found in the wapor_level catalog or were not available for the specified return period:\n",
      " ['L3_BKA_TBP_D', 'L3_BKA_QUAL_LCC_D', 'L3_BKA_PHE_D']\n",
      "continuing with the remainder\n",
      "retrieving download info for component: LCC\n",
      "retrieving download info for wapor_level 3 region: BKA\n",
      "attempting to retrieve donwload info for 1 rasters from wapor\n",
      "Download info Progress: |--------------------------------------------------| 0.0% Complete: 0 out of 1"
     ]
    },
    {
     "ename": "KeyboardInterrupt",
     "evalue": "",
     "output_type": "error",
     "traceback": [
      "\u001b[1;31m---------------------------------------------------------------------------\u001b[0m",
      "\u001b[1;31mKeyboardInterrupt\u001b[0m                         Traceback (most recent call last)",
      "\u001b[1;32m~\\AppData\\Local\\Temp/ipykernel_6804/3906341258.py\u001b[0m in \u001b[0;36m<module>\u001b[1;34m\u001b[0m\n\u001b[0;32m      1\u001b[0m \u001b[1;31m# method one using the shapefile\u001b[0m\u001b[1;33m\u001b[0m\u001b[1;33m\u001b[0m\u001b[1;33m\u001b[0m\u001b[0m\n\u001b[0;32m      2\u001b[0m crop_mask_raster_path, crop_mask_shape_path = retrieval.create_crop_mask_from_shapefile(\n\u001b[1;32m----> 3\u001b[1;33m         crop='your_crop_name_goes_here')\n\u001b[0m",
      "\u001b[1;32mc:\\git\\c2020.012.minbuza_waterpip\\waterpip\\scripts\\retrieval\\wapor_retrieval.py\u001b[0m in \u001b[0;36mcreate_crop_mask_from_shapefile\u001b[1;34m(self, crop, input_shapefile_path, template_raster_path, output_name, period_start, period_end)\u001b[0m\n\u001b[0;32m    656\u001b[0m                         \u001b[0mreturn_period\u001b[0m\u001b[1;33m=\u001b[0m\u001b[0mrp\u001b[0m\u001b[1;33m,\u001b[0m\u001b[1;33m\u001b[0m\u001b[1;33m\u001b[0m\u001b[0m\n\u001b[0;32m    657\u001b[0m                         \u001b[0mperiod_start\u001b[0m\u001b[1;33m=\u001b[0m\u001b[0mperiod_start\u001b[0m\u001b[1;33m,\u001b[0m\u001b[1;33m\u001b[0m\u001b[1;33m\u001b[0m\u001b[0m\n\u001b[1;32m--> 658\u001b[1;33m                         \u001b[0mperiod_end\u001b[0m\u001b[1;33m=\u001b[0m\u001b[0mperiod_end\u001b[0m\u001b[1;33m,\u001b[0m\u001b[1;33m\u001b[0m\u001b[1;33m\u001b[0m\u001b[0m\n\u001b[0m\u001b[0;32m    659\u001b[0m                     )\n\u001b[0;32m    660\u001b[0m \u001b[1;33m\u001b[0m\u001b[0m\n",
      "\u001b[1;32mc:\\git\\c2020.012.minbuza_waterpip\\waterpip\\scripts\\retrieval\\wapor_retrieval.py\u001b[0m in \u001b[0;36mretrieve_wapor_download_info\u001b[1;34m(self, datacomponents, period_start, period_end, return_period)\u001b[0m\n\u001b[0;32m   1056\u001b[0m                                         attempted 300 times every 10 sec and failed adjust the attempts or sleep time to try for longer')\n\u001b[0;32m   1057\u001b[0m                                 \u001b[1;32melse\u001b[0m\u001b[1;33m:\u001b[0m\u001b[1;33m\u001b[0m\u001b[1;33m\u001b[0m\u001b[0m\n\u001b[1;32m-> 1058\u001b[1;33m                                     \u001b[0mtime\u001b[0m\u001b[1;33m.\u001b[0m\u001b[0msleep\u001b[0m\u001b[1;33m(\u001b[0m\u001b[1;36m5\u001b[0m\u001b[1;33m)\u001b[0m\u001b[1;33m\u001b[0m\u001b[1;33m\u001b[0m\u001b[0m\n\u001b[0m\u001b[0;32m   1059\u001b[0m                                     \u001b[0mattempt\u001b[0m \u001b[1;33m+=\u001b[0m\u001b[1;36m1\u001b[0m\u001b[1;33m\u001b[0m\u001b[1;33m\u001b[0m\u001b[0m\n\u001b[0;32m   1060\u001b[0m                                     \u001b[1;32mif\u001b[0m \u001b[0mattempt\u001b[0m \u001b[1;33m>\u001b[0m \u001b[1;36m30\u001b[0m\u001b[1;33m:\u001b[0m\u001b[1;33m\u001b[0m\u001b[1;33m\u001b[0m\u001b[0m\n",
      "\u001b[1;31mKeyboardInterrupt\u001b[0m: "
     ]
    }
   ],
   "source": [
    "# method one using the shapefile\n",
    "crop_mask_raster_path, crop_mask_shape_path = retrieval.create_crop_mask_from_shapefile(\n",
    "        crop='your_crop_name_goes_here')"
   ]
  },
  {
   "cell_type": "markdown",
   "metadata": {},
   "source": [
    "### 3.2 Using WaPOR land cover classification to produce crop mask\n",
    "\n",
    "#### Required Inputs:\n",
    "\n",
    "**crop**: crop to mask too has to match the name used in the wapor database  \n",
    "classification codes      \n",
    "\n",
    "**period_start**: standard value used to grab a template raster if  one is not provided, \n",
    "can be ignored if the function works (may have been provided on class setup)\n",
    "\n",
    "**period_end**: standard value used to grab a template raster if  one is not provided, \n",
    "can be ignored if the function works (may have been provided on class setup)\n",
    "\n",
    "*NOTE: the crop code name provided has to match one avialable in the dictionary provided in waterpip\\scripts\\retrieval\\wapor_land_cover_classification_codes.py if it does not match suggestions will be provided*\n",
    "\n",
    "*NOTE: The  crop even if it is in the dictionary may not exist for in the given area accordign to the LCC or can only be found in very small numbers, in both cases the function wiil provide info*\n"
   ]
  },
  {
   "cell_type": "code",
   "execution_count": 4,
   "metadata": {},
   "outputs": [
    {
     "name": "stdout",
     "output_type": "stream",
     "text": [
      "crop was autocorrected to :wheat\n",
      "retrieving download info for component: LCC\n",
      "retrieving download info for wapor_level 3 region: BKA\n",
      "attempting to retrieve donwload info for 4 rasters from wapor\n",
      "Download Info Progress: |██████████████████████████████████████████████████| 100.0% Complete: 4 out of 4\n",
      "attempting to retrieve 4 rasters from wapor\n",
      "Download Raster Progress: |██████████████████████████████████████████████████| 100.0% Complete: 4 out of 4\n",
      "Processing\\Warping Progress: |██████████████████████████████████████████████████| 100.0% Complete: 4 out of 4\n",
      "percentage of occurrence of your chosen crop in the raster according to WAPOR is: 8.882\n",
      "raw crop mask raster made: C:\\Users\\roeland\\workspace\\projects\\waterpip\\waterpip_dir\\lebanon_wheat\\L3\\00_reference\\wheat_20200305_20200405_raw_mask.shp\n",
      "raw crop mask shape made: C:\\Users\\roeland\\workspace\\projects\\waterpip\\waterpip_dir\\lebanon_wheat\\L3\\00_reference\\wheat_20200305_20200405_raw_mask.shp\n",
      "WARNING: at wapor level 3 the area threshold is set to a minimum of 2\n",
      "turn this of in the code to set it lower than this or work with the raw shapefile directly\n",
      "crop mask shape made: C:\\Users\\roeland\\workspace\\projects\\waterpip\\waterpip_dir\\lebanon_wheat\\L3\\00_reference\\wheat_20200305_20200405_mask.shp\n",
      "crop was autocorrected to :wheat\n",
      "crop mask raster made: C:\\Users\\roeland\\workspace\\projects\\waterpip\\waterpip_dir\\lebanon_wheat\\L3\\00_reference\\wheat_20200305_20200405_mask.tif\n",
      "preexisting crop mask shape found skipping step\n"
     ]
    }
   ],
   "source": [
    "# method using the land classification raster from wapor\n",
    "crop_mask_raster_path, crop_mask_shape_path = retrieval.retrieve_crop_mask_from_WAPOR(\n",
    "    period_start=datetime(2020,3,5),\n",
    "    period_end=datetime(2020,4,5),\n",
    "    crop='Wheat'\n",
    ")"
   ]
  },
  {
   "cell_type": "markdown",
   "metadata": {},
   "source": [
    "## 4 Initiate/activate WaporAnalysis class to start analysis\n",
    "\n",
    "Once you have your crop mask you can analyse some wapor data. The WaporAnalysis class was made to make analyzing data retrieved from the WAPOR portal easy. To intiate the class you need to enter/edit the following inputs below:\n",
    "\n",
    "*Note: uses the same inputs as found in the class WaporRetrieval. Except that the api_token is only required if retrieving data.* \n",
    "\n",
    "#### Required Inputs:\n",
    "\n",
    "- **waterpip_directory**: path to the directory where the project specific directory will be created. the class *WaporRetrieval* automatically creates a new directory using the input *project_name* on activation and creates subfolders to organise the data as well. The functions that follow automatically use these folders (**required**).\n",
    "\n",
    "- **shapefile_path**: the shapefile is a needed input that specifies the location to download data for as well as the projection to output it in. Directly the input is the path to the shapefile itself. The function retrieves the data for the area(s) shown in the shapefile  (**required**).\n",
    "\n",
    "**Note**: A shapefile is required and provides alot of the required info for the project including the extent and the output projection. Any projection (crs) is accepted, wapor data is  always downloaded in epsg: 4326 and the shapefile bounding box is transformed as needed to match. transformations are made again if needed to retrieve the data and transform it to match the projection (crs) of the input shapefile. \n",
    "\n",
    "- **wapor_level**: level of WAPOR data to download. There are 3 levels from low resolution 250m (1) and mid resolution 100m (2) to high resolution 30m (3). All of Africa and part of the middle east is available at level 1. Specific countries are available at level 2. Only some specific locations around the size of valleys or hydrosheds are available at level 3. For more info on the levels please see: https://wapor.apps.fao.org/home/WAPOR_2/1  (**required**).\n",
    "\n",
    "**Note**: A spatial check is carried out on the download area specified in your shapefile to see if data is available for it at the given level when running (only level 1 and 3 spatial checks exist currently). Error messages provide details.\n",
    "\n",
    "- **project_name**: name of the directory that will be created, all data retrieved and analysed can be found in here, auto set to *test* if not provided.\n",
    "\n",
    "#### Optional Inputs:\n",
    "\n",
    "The following inputs are optional. They can also be provided when running the class functions for more flexibility. The advantage of passing them during clas setup/initialisation is that it is easy to repeatedly use the class functions with the same inputs. That way you are assured it will always run for the same inputs. The advantage of passing the class functions is that it is flexible. by changing only a few inputs you can retrieve different sets of data each time while maintaining the same required class inputs (folder structure, wapor level and area of interest (shapefile) etc). \n",
    "\n",
    "- **api_token**: the api token retrieved form the WAPOR site goes here. see the instructions above on how to retrieve a token from the WAPOR website.\n",
    "\n",
    "- **period_start**: date you want to start your data download from, enter as a datetime object. This can also be provided later when running the class functions. Auto sets to the before running if not provided.\n",
    "\n",
    "- **period_end**: date you want to end your data download at, enter as a datetime object. This can also be provided later when \n",
    "running the class functions. Auto sets to the day of running if not provided.\n",
    "\n",
    "**datetime objects**: A specific way of formatting dates for python. It is made up of the function datetime followed by the date in brackets split into the sections: Year (4 digits), month (2 or 1 digit), day (2 or 1 digits). (google python datetime object for more details)\n",
    "\n",
    "*Example*: November 4th 2020 or 4-11-2020: datetime(2020,11,4)  \n",
    "\n",
    "*Note*: do not use leading zeros for single digit dates (1 not 01). \n",
    "\n",
    "- **return_period**: return period to download data for, given as a single letter code. available periods include: I: Daily, D: Dekadal, S: Seasonal, A: Annual (yearly). This can also be provided later when running the class functions. Auto sets to the Dekadal (D) if not provided.\n",
    "\n",
    "- **datacomponents**: datacomponents (parameters of interest such as transpiration and net primary productivity) to download data for. These are input as single letter code strings seperated by a ',' in a list such as: ['T', 'NPP']. if you set the datacomponents input to ['ALL'] it will download all datacomponents available for that return period and level at that location.   This can also be provided later when running the class functions. Auto sets to the ['ALL'] if not provided."
   ]
  },
  {
   "cell_type": "code",
   "execution_count": 5,
   "metadata": {},
   "outputs": [],
   "source": [
    "analysis = WaporAnalysis(\n",
    "    waterpip_directory=r'C:\\Users\\roeland\\workspace\\projects\\waterpip\\waterpip_dir',\n",
    "    shapefile_path=crop_mask_shape_path,\n",
    "    wapor_level=3,\n",
    "    project_name='lebanon_wheat'\n",
    "    )"
   ]
  },
  {
   "cell_type": "markdown",
   "metadata": {},
   "source": [
    "## 5 Calculate WaPOR based PAIs \n",
    "\n",
    "Once you have intitiated the class you can retrieve some data and calculate PAIs based sololy on WaPOR data. The following function does this for some standardised and reliable PAI helpful to understand how agricultural systems are performing and their potential for improvement.\n",
    "\n",
    "This function could be considered a sall processing chain as it calls on multiple subfunctions to do its task in a clear and effecietn manner. Each of those sub functions some related to specific indicators such as crop water deficit cna also be called on their own if you so wish. Check out and dive into the code for details.\n",
    "\n",
    "Below you can find the description taken directly from the class function\n",
    "\n",
    "        \"\"\"\n",
    "        Description:\n",
    "            calculate all available perfornamce indicators per cell to test for adequacy, effeciency\n",
    "            reliability and equity for the given period and area as defined by the class shapefile\n",
    "\n",
    "            beneficial fraction: Sum of Transpiration  / Sum of Evapotranspiration (bf)\n",
    "            equity here: standard deviation of Evapotranspiration / Evapotranspiration Mean (cov)\n",
    "            equity safi: standard deviation of summed Evapotranspiration per field / \n",
    "            mean of summed evapotranspiration per field (cov)\n",
    "            crop_water_deficit: Potential evapotranspiration - Sum of Evapotranspiration (cwd)\n",
    "            relative evapotranspiration: Sum of Evapotranspiration / Potential evapotranspiration (ret)\n",
    "            temporal relative evapotranspiration: per dekad Sum of Evapotranspiration / Potential evapotranspiration\n",
    "            (tret)\n",
    "\n",
    "        Args:\n",
    "            self: (see class for details)\n",
    "            api_token: token used to retrieve the data \n",
    "            period_start: start of the season in datetime\n",
    "            period_end: end of the season in datetime\n",
    "            return_period: return period to retrieve data for, \n",
    "            auto set to monthly\n",
    "            crop_mask_path: path to the crop mask defining the area for analysis\n",
    "            crop: crop being analysed used in the name\n",
    "            output_nodata: nodata value to use on output\n",
    "            fields_shapefile_path: if the path to the fields shapefile_path is provided\n",
    "            then the field level statistics are also calculated           \n",
    "            field_stats: list of statistics to carry out during the field level analysis, \n",
    "            also used in the column names \n",
    "            id_key: name of shapefile column/feature dictionary key providing the feature indices \n",
    "            wpid is a reliable autogenerated index provided while making the crop mask\n",
    "            (note: also handy for joining tables and the crop mask shape/other shapes back later) \n",
    "            out_dict: if true outputs a dictionary instead of a shapefile and does not\n",
    "            write to csv.\n",
    "        \n",
    "        Return:\n",
    "            tuple: list of paths to the performance indicator rasters,  (dataframe/dict, csv of field statistics)\n",
    "        \"\"\"   "
   ]
  },
  {
   "cell_type": "code",
   "execution_count": 6,
   "metadata": {},
   "outputs": [
    {
     "name": "stdout",
     "output_type": "stream",
     "text": [
      "retrieving AETI data between 20200305 and 20200405 for the crop: wheat\n",
      "retrieving download info for component: AETI\n",
      "retrieving download info for wapor_level 3 region: BKA\n",
      "attempting to retrieve donwload info for 4 rasters from wapor\n",
      "Download Info Progress: |██████████████████████████████████████████████████| 100.0% Complete: 4 out of 4\n",
      "attempting to retrieve 4 rasters from wapor\n",
      "Download Raster Progress: |██████████████████████████████████████████████████| 100.0% Complete: 4 out of 4\n",
      "Processing\\Warping Progress: |██████████████████████████████████████████████████| 100.0% Complete: 4 out of 4\n"
     ]
    },
    {
     "name": "stderr",
     "output_type": "stream",
     "text": [
      "C:\\Users\\roeland\\.conda\\envs\\waterpip3\\lib\\site-packages\\numpy\\lib\\function_base.py:2197: RuntimeWarning: invalid value encountered in ceiling_divide (vectorized)\n",
      "  outputs = ufunc(*inputs)\n"
     ]
    },
    {
     "name": "stdout",
     "output_type": "stream",
     "text": [
      "Relative evapotranspiration raster calculated: ret (Adequacy PAI)\n",
      "Calculating ret field statistics...\n",
      "attempting to claculate zonal stats for a single raster\n",
      "calculating all feature statistics...\n",
      "Relative evapotranspiration field statistics calculated: ret (Adequacy PAI)\n",
      "('C:\\\\Users\\\\roeland\\\\workspace\\\\projects\\\\waterpip\\\\waterpip_dir\\\\lebanon_wheat\\\\L3\\\\04_results\\\\L3_wheat_ret_20200305_20200405.tif', (      L3_wheat_ret_20200305_20200405_mean\n",
      "1                                0.000000\n",
      "2                                0.000000\n",
      "3                                0.000000\n",
      "5                                0.000000\n",
      "6                                0.000000\n",
      "...                                   ...\n",
      "3370                             0.013793\n",
      "3371                             0.000000\n",
      "3372                             0.000000\n",
      "3373                             0.000000\n",
      "3374                             0.000000\n",
      "\n",
      "[1780 rows x 1 columns], 'C:\\\\Users\\\\roeland\\\\workspace\\\\projects\\\\waterpip\\\\waterpip_dir\\\\lebanon_wheat\\\\L3\\\\04_results\\\\L3_wheat_ret_20200305_20200405.csv'))\n"
     ]
    }
   ],
   "source": [
    "outputs = analysis.calc_relative_evapotranspiration(\n",
    "    api_token='c009b20150c8b6986dd321ebe1df6dbd0c5cc7684475a6ad88da64e7b45ff89ecc4e24128d2cf5bb',\n",
    "    period_start=datetime(2020,3,5), # do not need to provide this if you do it on class setup\n",
    "    period_end=datetime(2020,4,5), # do not need to provide this if you do it on class setup\n",
    "    fields_shapefile_path=crop_mask_shape_path,\n",
    "    crop_mask_path=crop_mask_raster_path,\n",
    "    crop='wheat',\n",
    "    output_nodata=-9999,\n",
    "    )\n",
    "\n",
    "print(outputs)"
   ]
  },
  {
   "cell_type": "markdown",
   "metadata": {},
   "source": [
    "## 6 Check out the data \n",
    "if the code ran succesfully you should be able to find soem results in the folder: \n",
    "*<wapor_directory>/<project_name>/L<number>/04_results*\n",
    "\n",
    "## 7 Visualise the data\n",
    "\n",
    "You can check the data using a program such as Qgis or arcGIS or however you want.\n",
    "\n",
    "## 8 Rinse and Repeat  \n",
    "\n",
    "Now that you know how to retrieve data and analyse data feel free to repeat the notebooks *04_waterpip_analysis_PAIs* and play around with the parameters. If you feel like it you can even get into the code itself and see what you can code, run, retrieve and analyse! \n",
    "\n",
    "## 9 Visualising Performance Assessment Indicators (PAIs) for an area\n",
    "\n",
    "If you feel like it you can also take a look at notebook *05_visualising_waterpip_results.ipynb* where we walk you through the process of producing some more informative visualisations and graphs from some of your previously downloaded data."
   ]
  },
  {
   "cell_type": "code",
   "execution_count": null,
   "metadata": {},
   "outputs": [],
   "source": []
  }
 ],
 "metadata": {
  "interpreter": {
   "hash": "7ea5502c6aaf84c3a8ba9052b315a65d444de21178e5ce48c7f6ec081b5b3519"
  },
  "kernelspec": {
   "display_name": "Python 3 (ipykernel)",
   "language": "python",
   "name": "python3"
  },
  "language_info": {
   "codemirror_mode": {
    "name": "ipython",
    "version": 3
   },
   "file_extension": ".py",
   "mimetype": "text/x-python",
   "name": "python",
   "nbconvert_exporter": "python",
   "pygments_lexer": "ipython3",
   "version": "3.7.11"
  }
 },
 "nbformat": 4,
 "nbformat_minor": 2
}
